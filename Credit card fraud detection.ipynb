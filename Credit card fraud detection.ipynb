{
 "cells": [
  {
   "cell_type": "code",
   "execution_count": 2,
   "metadata": {},
   "outputs": [],
   "source": [
    "# Import\n",
    "import numpy as np\n",
    "import pandas as pd\n",
    "import tensorflow as tf\n",
    "import matplotlib.pyplot as plt\n",
    "import seaborn as sns\n",
    "from sklearn.preprocessing import StandardScaler\n",
    "from sklearn.model_selection import train_test_split\n",
    "from sklearn.metrics import confusion_matrix, precision_recall_fscore_support, accuracy_score, precision_score, recall_score\n",
    "from imblearn.over_sampling import SMOTE"
   ]
  },
  {
   "cell_type": "code",
   "execution_count": 3,
   "metadata": {},
   "outputs": [],
   "source": [
    "# Read data\n",
    "raw_data = pd.read_csv(\"data/creditcard.csv\")"
   ]
  },
  {
   "cell_type": "code",
   "execution_count": 4,
   "metadata": {},
   "outputs": [
    {
     "data": {
      "text/html": [
       "<div>\n",
       "<style scoped>\n",
       "    .dataframe tbody tr th:only-of-type {\n",
       "        vertical-align: middle;\n",
       "    }\n",
       "\n",
       "    .dataframe tbody tr th {\n",
       "        vertical-align: top;\n",
       "    }\n",
       "\n",
       "    .dataframe thead th {\n",
       "        text-align: right;\n",
       "    }\n",
       "</style>\n",
       "<table border=\"1\" class=\"dataframe\">\n",
       "  <thead>\n",
       "    <tr style=\"text-align: right;\">\n",
       "      <th></th>\n",
       "      <th>Time</th>\n",
       "      <th>V1</th>\n",
       "      <th>V2</th>\n",
       "      <th>V3</th>\n",
       "      <th>V4</th>\n",
       "      <th>V5</th>\n",
       "      <th>V6</th>\n",
       "      <th>V7</th>\n",
       "      <th>V8</th>\n",
       "      <th>V9</th>\n",
       "      <th>...</th>\n",
       "      <th>V21</th>\n",
       "      <th>V22</th>\n",
       "      <th>V23</th>\n",
       "      <th>V24</th>\n",
       "      <th>V25</th>\n",
       "      <th>V26</th>\n",
       "      <th>V27</th>\n",
       "      <th>V28</th>\n",
       "      <th>Amount</th>\n",
       "      <th>Class</th>\n",
       "    </tr>\n",
       "  </thead>\n",
       "  <tbody>\n",
       "    <tr>\n",
       "      <th>count</th>\n",
       "      <td>284807.000000</td>\n",
       "      <td>2.848070e+05</td>\n",
       "      <td>2.848070e+05</td>\n",
       "      <td>2.848070e+05</td>\n",
       "      <td>2.848070e+05</td>\n",
       "      <td>2.848070e+05</td>\n",
       "      <td>2.848070e+05</td>\n",
       "      <td>2.848070e+05</td>\n",
       "      <td>2.848070e+05</td>\n",
       "      <td>2.848070e+05</td>\n",
       "      <td>...</td>\n",
       "      <td>2.848070e+05</td>\n",
       "      <td>2.848070e+05</td>\n",
       "      <td>2.848070e+05</td>\n",
       "      <td>2.848070e+05</td>\n",
       "      <td>2.848070e+05</td>\n",
       "      <td>2.848070e+05</td>\n",
       "      <td>2.848070e+05</td>\n",
       "      <td>2.848070e+05</td>\n",
       "      <td>284807.000000</td>\n",
       "      <td>284807.000000</td>\n",
       "    </tr>\n",
       "    <tr>\n",
       "      <th>mean</th>\n",
       "      <td>94813.859575</td>\n",
       "      <td>1.165980e-15</td>\n",
       "      <td>3.416908e-16</td>\n",
       "      <td>-1.373150e-15</td>\n",
       "      <td>2.086869e-15</td>\n",
       "      <td>9.604066e-16</td>\n",
       "      <td>1.490107e-15</td>\n",
       "      <td>-5.556467e-16</td>\n",
       "      <td>1.177556e-16</td>\n",
       "      <td>-2.406455e-15</td>\n",
       "      <td>...</td>\n",
       "      <td>1.656562e-16</td>\n",
       "      <td>-3.444850e-16</td>\n",
       "      <td>2.578648e-16</td>\n",
       "      <td>4.471968e-15</td>\n",
       "      <td>5.340915e-16</td>\n",
       "      <td>1.687098e-15</td>\n",
       "      <td>-3.666453e-16</td>\n",
       "      <td>-1.220404e-16</td>\n",
       "      <td>88.349619</td>\n",
       "      <td>0.001727</td>\n",
       "    </tr>\n",
       "    <tr>\n",
       "      <th>std</th>\n",
       "      <td>47488.145955</td>\n",
       "      <td>1.958696e+00</td>\n",
       "      <td>1.651309e+00</td>\n",
       "      <td>1.516255e+00</td>\n",
       "      <td>1.415869e+00</td>\n",
       "      <td>1.380247e+00</td>\n",
       "      <td>1.332271e+00</td>\n",
       "      <td>1.237094e+00</td>\n",
       "      <td>1.194353e+00</td>\n",
       "      <td>1.098632e+00</td>\n",
       "      <td>...</td>\n",
       "      <td>7.345240e-01</td>\n",
       "      <td>7.257016e-01</td>\n",
       "      <td>6.244603e-01</td>\n",
       "      <td>6.056471e-01</td>\n",
       "      <td>5.212781e-01</td>\n",
       "      <td>4.822270e-01</td>\n",
       "      <td>4.036325e-01</td>\n",
       "      <td>3.300833e-01</td>\n",
       "      <td>250.120109</td>\n",
       "      <td>0.041527</td>\n",
       "    </tr>\n",
       "    <tr>\n",
       "      <th>min</th>\n",
       "      <td>0.000000</td>\n",
       "      <td>-5.640751e+01</td>\n",
       "      <td>-7.271573e+01</td>\n",
       "      <td>-4.832559e+01</td>\n",
       "      <td>-5.683171e+00</td>\n",
       "      <td>-1.137433e+02</td>\n",
       "      <td>-2.616051e+01</td>\n",
       "      <td>-4.355724e+01</td>\n",
       "      <td>-7.321672e+01</td>\n",
       "      <td>-1.343407e+01</td>\n",
       "      <td>...</td>\n",
       "      <td>-3.483038e+01</td>\n",
       "      <td>-1.093314e+01</td>\n",
       "      <td>-4.480774e+01</td>\n",
       "      <td>-2.836627e+00</td>\n",
       "      <td>-1.029540e+01</td>\n",
       "      <td>-2.604551e+00</td>\n",
       "      <td>-2.256568e+01</td>\n",
       "      <td>-1.543008e+01</td>\n",
       "      <td>0.000000</td>\n",
       "      <td>0.000000</td>\n",
       "    </tr>\n",
       "    <tr>\n",
       "      <th>25%</th>\n",
       "      <td>54201.500000</td>\n",
       "      <td>-9.203734e-01</td>\n",
       "      <td>-5.985499e-01</td>\n",
       "      <td>-8.903648e-01</td>\n",
       "      <td>-8.486401e-01</td>\n",
       "      <td>-6.915971e-01</td>\n",
       "      <td>-7.682956e-01</td>\n",
       "      <td>-5.540759e-01</td>\n",
       "      <td>-2.086297e-01</td>\n",
       "      <td>-6.430976e-01</td>\n",
       "      <td>...</td>\n",
       "      <td>-2.283949e-01</td>\n",
       "      <td>-5.423504e-01</td>\n",
       "      <td>-1.618463e-01</td>\n",
       "      <td>-3.545861e-01</td>\n",
       "      <td>-3.171451e-01</td>\n",
       "      <td>-3.269839e-01</td>\n",
       "      <td>-7.083953e-02</td>\n",
       "      <td>-5.295979e-02</td>\n",
       "      <td>5.600000</td>\n",
       "      <td>0.000000</td>\n",
       "    </tr>\n",
       "    <tr>\n",
       "      <th>50%</th>\n",
       "      <td>84692.000000</td>\n",
       "      <td>1.810880e-02</td>\n",
       "      <td>6.548556e-02</td>\n",
       "      <td>1.798463e-01</td>\n",
       "      <td>-1.984653e-02</td>\n",
       "      <td>-5.433583e-02</td>\n",
       "      <td>-2.741871e-01</td>\n",
       "      <td>4.010308e-02</td>\n",
       "      <td>2.235804e-02</td>\n",
       "      <td>-5.142873e-02</td>\n",
       "      <td>...</td>\n",
       "      <td>-2.945017e-02</td>\n",
       "      <td>6.781943e-03</td>\n",
       "      <td>-1.119293e-02</td>\n",
       "      <td>4.097606e-02</td>\n",
       "      <td>1.659350e-02</td>\n",
       "      <td>-5.213911e-02</td>\n",
       "      <td>1.342146e-03</td>\n",
       "      <td>1.124383e-02</td>\n",
       "      <td>22.000000</td>\n",
       "      <td>0.000000</td>\n",
       "    </tr>\n",
       "    <tr>\n",
       "      <th>75%</th>\n",
       "      <td>139320.500000</td>\n",
       "      <td>1.315642e+00</td>\n",
       "      <td>8.037239e-01</td>\n",
       "      <td>1.027196e+00</td>\n",
       "      <td>7.433413e-01</td>\n",
       "      <td>6.119264e-01</td>\n",
       "      <td>3.985649e-01</td>\n",
       "      <td>5.704361e-01</td>\n",
       "      <td>3.273459e-01</td>\n",
       "      <td>5.971390e-01</td>\n",
       "      <td>...</td>\n",
       "      <td>1.863772e-01</td>\n",
       "      <td>5.285536e-01</td>\n",
       "      <td>1.476421e-01</td>\n",
       "      <td>4.395266e-01</td>\n",
       "      <td>3.507156e-01</td>\n",
       "      <td>2.409522e-01</td>\n",
       "      <td>9.104512e-02</td>\n",
       "      <td>7.827995e-02</td>\n",
       "      <td>77.165000</td>\n",
       "      <td>0.000000</td>\n",
       "    </tr>\n",
       "    <tr>\n",
       "      <th>max</th>\n",
       "      <td>172792.000000</td>\n",
       "      <td>2.454930e+00</td>\n",
       "      <td>2.205773e+01</td>\n",
       "      <td>9.382558e+00</td>\n",
       "      <td>1.687534e+01</td>\n",
       "      <td>3.480167e+01</td>\n",
       "      <td>7.330163e+01</td>\n",
       "      <td>1.205895e+02</td>\n",
       "      <td>2.000721e+01</td>\n",
       "      <td>1.559499e+01</td>\n",
       "      <td>...</td>\n",
       "      <td>2.720284e+01</td>\n",
       "      <td>1.050309e+01</td>\n",
       "      <td>2.252841e+01</td>\n",
       "      <td>4.584549e+00</td>\n",
       "      <td>7.519589e+00</td>\n",
       "      <td>3.517346e+00</td>\n",
       "      <td>3.161220e+01</td>\n",
       "      <td>3.384781e+01</td>\n",
       "      <td>25691.160000</td>\n",
       "      <td>1.000000</td>\n",
       "    </tr>\n",
       "  </tbody>\n",
       "</table>\n",
       "<p>8 rows × 31 columns</p>\n",
       "</div>"
      ],
      "text/plain": [
       "                Time            V1            V2            V3            V4  \\\n",
       "count  284807.000000  2.848070e+05  2.848070e+05  2.848070e+05  2.848070e+05   \n",
       "mean    94813.859575  1.165980e-15  3.416908e-16 -1.373150e-15  2.086869e-15   \n",
       "std     47488.145955  1.958696e+00  1.651309e+00  1.516255e+00  1.415869e+00   \n",
       "min         0.000000 -5.640751e+01 -7.271573e+01 -4.832559e+01 -5.683171e+00   \n",
       "25%     54201.500000 -9.203734e-01 -5.985499e-01 -8.903648e-01 -8.486401e-01   \n",
       "50%     84692.000000  1.810880e-02  6.548556e-02  1.798463e-01 -1.984653e-02   \n",
       "75%    139320.500000  1.315642e+00  8.037239e-01  1.027196e+00  7.433413e-01   \n",
       "max    172792.000000  2.454930e+00  2.205773e+01  9.382558e+00  1.687534e+01   \n",
       "\n",
       "                 V5            V6            V7            V8            V9  \\\n",
       "count  2.848070e+05  2.848070e+05  2.848070e+05  2.848070e+05  2.848070e+05   \n",
       "mean   9.604066e-16  1.490107e-15 -5.556467e-16  1.177556e-16 -2.406455e-15   \n",
       "std    1.380247e+00  1.332271e+00  1.237094e+00  1.194353e+00  1.098632e+00   \n",
       "min   -1.137433e+02 -2.616051e+01 -4.355724e+01 -7.321672e+01 -1.343407e+01   \n",
       "25%   -6.915971e-01 -7.682956e-01 -5.540759e-01 -2.086297e-01 -6.430976e-01   \n",
       "50%   -5.433583e-02 -2.741871e-01  4.010308e-02  2.235804e-02 -5.142873e-02   \n",
       "75%    6.119264e-01  3.985649e-01  5.704361e-01  3.273459e-01  5.971390e-01   \n",
       "max    3.480167e+01  7.330163e+01  1.205895e+02  2.000721e+01  1.559499e+01   \n",
       "\n",
       "       ...           V21           V22           V23           V24  \\\n",
       "count  ...  2.848070e+05  2.848070e+05  2.848070e+05  2.848070e+05   \n",
       "mean   ...  1.656562e-16 -3.444850e-16  2.578648e-16  4.471968e-15   \n",
       "std    ...  7.345240e-01  7.257016e-01  6.244603e-01  6.056471e-01   \n",
       "min    ... -3.483038e+01 -1.093314e+01 -4.480774e+01 -2.836627e+00   \n",
       "25%    ... -2.283949e-01 -5.423504e-01 -1.618463e-01 -3.545861e-01   \n",
       "50%    ... -2.945017e-02  6.781943e-03 -1.119293e-02  4.097606e-02   \n",
       "75%    ...  1.863772e-01  5.285536e-01  1.476421e-01  4.395266e-01   \n",
       "max    ...  2.720284e+01  1.050309e+01  2.252841e+01  4.584549e+00   \n",
       "\n",
       "                V25           V26           V27           V28         Amount  \\\n",
       "count  2.848070e+05  2.848070e+05  2.848070e+05  2.848070e+05  284807.000000   \n",
       "mean   5.340915e-16  1.687098e-15 -3.666453e-16 -1.220404e-16      88.349619   \n",
       "std    5.212781e-01  4.822270e-01  4.036325e-01  3.300833e-01     250.120109   \n",
       "min   -1.029540e+01 -2.604551e+00 -2.256568e+01 -1.543008e+01       0.000000   \n",
       "25%   -3.171451e-01 -3.269839e-01 -7.083953e-02 -5.295979e-02       5.600000   \n",
       "50%    1.659350e-02 -5.213911e-02  1.342146e-03  1.124383e-02      22.000000   \n",
       "75%    3.507156e-01  2.409522e-01  9.104512e-02  7.827995e-02      77.165000   \n",
       "max    7.519589e+00  3.517346e+00  3.161220e+01  3.384781e+01   25691.160000   \n",
       "\n",
       "               Class  \n",
       "count  284807.000000  \n",
       "mean        0.001727  \n",
       "std         0.041527  \n",
       "min         0.000000  \n",
       "25%         0.000000  \n",
       "50%         0.000000  \n",
       "75%         0.000000  \n",
       "max         1.000000  \n",
       "\n",
       "[8 rows x 31 columns]"
      ]
     },
     "execution_count": 4,
     "metadata": {},
     "output_type": "execute_result"
    }
   ],
   "source": [
    "#Description\n",
    "raw_data.describe()"
   ]
  },
  {
   "cell_type": "markdown",
   "metadata": {},
   "source": [
    "# Data management"
   ]
  },
  {
   "cell_type": "code",
   "execution_count": 5,
   "metadata": {},
   "outputs": [
    {
     "data": {
      "text/html": [
       "<div>\n",
       "<style scoped>\n",
       "    .dataframe tbody tr th:only-of-type {\n",
       "        vertical-align: middle;\n",
       "    }\n",
       "\n",
       "    .dataframe tbody tr th {\n",
       "        vertical-align: top;\n",
       "    }\n",
       "\n",
       "    .dataframe thead th {\n",
       "        text-align: right;\n",
       "    }\n",
       "</style>\n",
       "<table border=\"1\" class=\"dataframe\">\n",
       "  <thead>\n",
       "    <tr style=\"text-align: right;\">\n",
       "      <th></th>\n",
       "      <th>Time</th>\n",
       "      <th>V1</th>\n",
       "      <th>V2</th>\n",
       "      <th>V3</th>\n",
       "      <th>V4</th>\n",
       "      <th>V5</th>\n",
       "      <th>V6</th>\n",
       "      <th>V7</th>\n",
       "      <th>V8</th>\n",
       "      <th>V9</th>\n",
       "      <th>...</th>\n",
       "      <th>V20</th>\n",
       "      <th>V21</th>\n",
       "      <th>V22</th>\n",
       "      <th>V23</th>\n",
       "      <th>V24</th>\n",
       "      <th>V25</th>\n",
       "      <th>V26</th>\n",
       "      <th>V27</th>\n",
       "      <th>V28</th>\n",
       "      <th>Amount</th>\n",
       "    </tr>\n",
       "  </thead>\n",
       "  <tbody>\n",
       "    <tr>\n",
       "      <th>count</th>\n",
       "      <td>284807.000000</td>\n",
       "      <td>2.848070e+05</td>\n",
       "      <td>2.848070e+05</td>\n",
       "      <td>2.848070e+05</td>\n",
       "      <td>2.848070e+05</td>\n",
       "      <td>2.848070e+05</td>\n",
       "      <td>2.848070e+05</td>\n",
       "      <td>2.848070e+05</td>\n",
       "      <td>2.848070e+05</td>\n",
       "      <td>2.848070e+05</td>\n",
       "      <td>...</td>\n",
       "      <td>2.848070e+05</td>\n",
       "      <td>2.848070e+05</td>\n",
       "      <td>2.848070e+05</td>\n",
       "      <td>2.848070e+05</td>\n",
       "      <td>2.848070e+05</td>\n",
       "      <td>2.848070e+05</td>\n",
       "      <td>2.848070e+05</td>\n",
       "      <td>2.848070e+05</td>\n",
       "      <td>2.848070e+05</td>\n",
       "      <td>284807.000000</td>\n",
       "    </tr>\n",
       "    <tr>\n",
       "      <th>mean</th>\n",
       "      <td>94813.859575</td>\n",
       "      <td>1.165980e-15</td>\n",
       "      <td>3.416908e-16</td>\n",
       "      <td>-1.373150e-15</td>\n",
       "      <td>2.086869e-15</td>\n",
       "      <td>9.604066e-16</td>\n",
       "      <td>1.490107e-15</td>\n",
       "      <td>-5.556467e-16</td>\n",
       "      <td>1.177556e-16</td>\n",
       "      <td>-2.406455e-15</td>\n",
       "      <td>...</td>\n",
       "      <td>6.406703e-16</td>\n",
       "      <td>1.656562e-16</td>\n",
       "      <td>-3.444850e-16</td>\n",
       "      <td>2.578648e-16</td>\n",
       "      <td>4.471968e-15</td>\n",
       "      <td>5.340915e-16</td>\n",
       "      <td>1.687098e-15</td>\n",
       "      <td>-3.666453e-16</td>\n",
       "      <td>-1.220404e-16</td>\n",
       "      <td>88.349619</td>\n",
       "    </tr>\n",
       "    <tr>\n",
       "      <th>std</th>\n",
       "      <td>47488.145955</td>\n",
       "      <td>1.958696e+00</td>\n",
       "      <td>1.651309e+00</td>\n",
       "      <td>1.516255e+00</td>\n",
       "      <td>1.415869e+00</td>\n",
       "      <td>1.380247e+00</td>\n",
       "      <td>1.332271e+00</td>\n",
       "      <td>1.237094e+00</td>\n",
       "      <td>1.194353e+00</td>\n",
       "      <td>1.098632e+00</td>\n",
       "      <td>...</td>\n",
       "      <td>7.709250e-01</td>\n",
       "      <td>7.345240e-01</td>\n",
       "      <td>7.257016e-01</td>\n",
       "      <td>6.244603e-01</td>\n",
       "      <td>6.056471e-01</td>\n",
       "      <td>5.212781e-01</td>\n",
       "      <td>4.822270e-01</td>\n",
       "      <td>4.036325e-01</td>\n",
       "      <td>3.300833e-01</td>\n",
       "      <td>250.120109</td>\n",
       "    </tr>\n",
       "    <tr>\n",
       "      <th>min</th>\n",
       "      <td>0.000000</td>\n",
       "      <td>-5.640751e+01</td>\n",
       "      <td>-7.271573e+01</td>\n",
       "      <td>-4.832559e+01</td>\n",
       "      <td>-5.683171e+00</td>\n",
       "      <td>-1.137433e+02</td>\n",
       "      <td>-2.616051e+01</td>\n",
       "      <td>-4.355724e+01</td>\n",
       "      <td>-7.321672e+01</td>\n",
       "      <td>-1.343407e+01</td>\n",
       "      <td>...</td>\n",
       "      <td>-5.449772e+01</td>\n",
       "      <td>-3.483038e+01</td>\n",
       "      <td>-1.093314e+01</td>\n",
       "      <td>-4.480774e+01</td>\n",
       "      <td>-2.836627e+00</td>\n",
       "      <td>-1.029540e+01</td>\n",
       "      <td>-2.604551e+00</td>\n",
       "      <td>-2.256568e+01</td>\n",
       "      <td>-1.543008e+01</td>\n",
       "      <td>0.000000</td>\n",
       "    </tr>\n",
       "    <tr>\n",
       "      <th>25%</th>\n",
       "      <td>54201.500000</td>\n",
       "      <td>-9.203734e-01</td>\n",
       "      <td>-5.985499e-01</td>\n",
       "      <td>-8.903648e-01</td>\n",
       "      <td>-8.486401e-01</td>\n",
       "      <td>-6.915971e-01</td>\n",
       "      <td>-7.682956e-01</td>\n",
       "      <td>-5.540759e-01</td>\n",
       "      <td>-2.086297e-01</td>\n",
       "      <td>-6.430976e-01</td>\n",
       "      <td>...</td>\n",
       "      <td>-2.117214e-01</td>\n",
       "      <td>-2.283949e-01</td>\n",
       "      <td>-5.423504e-01</td>\n",
       "      <td>-1.618463e-01</td>\n",
       "      <td>-3.545861e-01</td>\n",
       "      <td>-3.171451e-01</td>\n",
       "      <td>-3.269839e-01</td>\n",
       "      <td>-7.083953e-02</td>\n",
       "      <td>-5.295979e-02</td>\n",
       "      <td>5.600000</td>\n",
       "    </tr>\n",
       "    <tr>\n",
       "      <th>50%</th>\n",
       "      <td>84692.000000</td>\n",
       "      <td>1.810880e-02</td>\n",
       "      <td>6.548556e-02</td>\n",
       "      <td>1.798463e-01</td>\n",
       "      <td>-1.984653e-02</td>\n",
       "      <td>-5.433583e-02</td>\n",
       "      <td>-2.741871e-01</td>\n",
       "      <td>4.010308e-02</td>\n",
       "      <td>2.235804e-02</td>\n",
       "      <td>-5.142873e-02</td>\n",
       "      <td>...</td>\n",
       "      <td>-6.248109e-02</td>\n",
       "      <td>-2.945017e-02</td>\n",
       "      <td>6.781943e-03</td>\n",
       "      <td>-1.119293e-02</td>\n",
       "      <td>4.097606e-02</td>\n",
       "      <td>1.659350e-02</td>\n",
       "      <td>-5.213911e-02</td>\n",
       "      <td>1.342146e-03</td>\n",
       "      <td>1.124383e-02</td>\n",
       "      <td>22.000000</td>\n",
       "    </tr>\n",
       "    <tr>\n",
       "      <th>75%</th>\n",
       "      <td>139320.500000</td>\n",
       "      <td>1.315642e+00</td>\n",
       "      <td>8.037239e-01</td>\n",
       "      <td>1.027196e+00</td>\n",
       "      <td>7.433413e-01</td>\n",
       "      <td>6.119264e-01</td>\n",
       "      <td>3.985649e-01</td>\n",
       "      <td>5.704361e-01</td>\n",
       "      <td>3.273459e-01</td>\n",
       "      <td>5.971390e-01</td>\n",
       "      <td>...</td>\n",
       "      <td>1.330408e-01</td>\n",
       "      <td>1.863772e-01</td>\n",
       "      <td>5.285536e-01</td>\n",
       "      <td>1.476421e-01</td>\n",
       "      <td>4.395266e-01</td>\n",
       "      <td>3.507156e-01</td>\n",
       "      <td>2.409522e-01</td>\n",
       "      <td>9.104512e-02</td>\n",
       "      <td>7.827995e-02</td>\n",
       "      <td>77.165000</td>\n",
       "    </tr>\n",
       "    <tr>\n",
       "      <th>max</th>\n",
       "      <td>172792.000000</td>\n",
       "      <td>2.454930e+00</td>\n",
       "      <td>2.205773e+01</td>\n",
       "      <td>9.382558e+00</td>\n",
       "      <td>1.687534e+01</td>\n",
       "      <td>3.480167e+01</td>\n",
       "      <td>7.330163e+01</td>\n",
       "      <td>1.205895e+02</td>\n",
       "      <td>2.000721e+01</td>\n",
       "      <td>1.559499e+01</td>\n",
       "      <td>...</td>\n",
       "      <td>3.942090e+01</td>\n",
       "      <td>2.720284e+01</td>\n",
       "      <td>1.050309e+01</td>\n",
       "      <td>2.252841e+01</td>\n",
       "      <td>4.584549e+00</td>\n",
       "      <td>7.519589e+00</td>\n",
       "      <td>3.517346e+00</td>\n",
       "      <td>3.161220e+01</td>\n",
       "      <td>3.384781e+01</td>\n",
       "      <td>25691.160000</td>\n",
       "    </tr>\n",
       "  </tbody>\n",
       "</table>\n",
       "<p>8 rows × 30 columns</p>\n",
       "</div>"
      ],
      "text/plain": [
       "                Time            V1            V2            V3            V4  \\\n",
       "count  284807.000000  2.848070e+05  2.848070e+05  2.848070e+05  2.848070e+05   \n",
       "mean    94813.859575  1.165980e-15  3.416908e-16 -1.373150e-15  2.086869e-15   \n",
       "std     47488.145955  1.958696e+00  1.651309e+00  1.516255e+00  1.415869e+00   \n",
       "min         0.000000 -5.640751e+01 -7.271573e+01 -4.832559e+01 -5.683171e+00   \n",
       "25%     54201.500000 -9.203734e-01 -5.985499e-01 -8.903648e-01 -8.486401e-01   \n",
       "50%     84692.000000  1.810880e-02  6.548556e-02  1.798463e-01 -1.984653e-02   \n",
       "75%    139320.500000  1.315642e+00  8.037239e-01  1.027196e+00  7.433413e-01   \n",
       "max    172792.000000  2.454930e+00  2.205773e+01  9.382558e+00  1.687534e+01   \n",
       "\n",
       "                 V5            V6            V7            V8            V9  \\\n",
       "count  2.848070e+05  2.848070e+05  2.848070e+05  2.848070e+05  2.848070e+05   \n",
       "mean   9.604066e-16  1.490107e-15 -5.556467e-16  1.177556e-16 -2.406455e-15   \n",
       "std    1.380247e+00  1.332271e+00  1.237094e+00  1.194353e+00  1.098632e+00   \n",
       "min   -1.137433e+02 -2.616051e+01 -4.355724e+01 -7.321672e+01 -1.343407e+01   \n",
       "25%   -6.915971e-01 -7.682956e-01 -5.540759e-01 -2.086297e-01 -6.430976e-01   \n",
       "50%   -5.433583e-02 -2.741871e-01  4.010308e-02  2.235804e-02 -5.142873e-02   \n",
       "75%    6.119264e-01  3.985649e-01  5.704361e-01  3.273459e-01  5.971390e-01   \n",
       "max    3.480167e+01  7.330163e+01  1.205895e+02  2.000721e+01  1.559499e+01   \n",
       "\n",
       "       ...           V20           V21           V22           V23  \\\n",
       "count  ...  2.848070e+05  2.848070e+05  2.848070e+05  2.848070e+05   \n",
       "mean   ...  6.406703e-16  1.656562e-16 -3.444850e-16  2.578648e-16   \n",
       "std    ...  7.709250e-01  7.345240e-01  7.257016e-01  6.244603e-01   \n",
       "min    ... -5.449772e+01 -3.483038e+01 -1.093314e+01 -4.480774e+01   \n",
       "25%    ... -2.117214e-01 -2.283949e-01 -5.423504e-01 -1.618463e-01   \n",
       "50%    ... -6.248109e-02 -2.945017e-02  6.781943e-03 -1.119293e-02   \n",
       "75%    ...  1.330408e-01  1.863772e-01  5.285536e-01  1.476421e-01   \n",
       "max    ...  3.942090e+01  2.720284e+01  1.050309e+01  2.252841e+01   \n",
       "\n",
       "                V24           V25           V26           V27           V28  \\\n",
       "count  2.848070e+05  2.848070e+05  2.848070e+05  2.848070e+05  2.848070e+05   \n",
       "mean   4.471968e-15  5.340915e-16  1.687098e-15 -3.666453e-16 -1.220404e-16   \n",
       "std    6.056471e-01  5.212781e-01  4.822270e-01  4.036325e-01  3.300833e-01   \n",
       "min   -2.836627e+00 -1.029540e+01 -2.604551e+00 -2.256568e+01 -1.543008e+01   \n",
       "25%   -3.545861e-01 -3.171451e-01 -3.269839e-01 -7.083953e-02 -5.295979e-02   \n",
       "50%    4.097606e-02  1.659350e-02 -5.213911e-02  1.342146e-03  1.124383e-02   \n",
       "75%    4.395266e-01  3.507156e-01  2.409522e-01  9.104512e-02  7.827995e-02   \n",
       "max    4.584549e+00  7.519589e+00  3.517346e+00  3.161220e+01  3.384781e+01   \n",
       "\n",
       "              Amount  \n",
       "count  284807.000000  \n",
       "mean       88.349619  \n",
       "std       250.120109  \n",
       "min         0.000000  \n",
       "25%         5.600000  \n",
       "50%        22.000000  \n",
       "75%        77.165000  \n",
       "max     25691.160000  \n",
       "\n",
       "[8 rows x 30 columns]"
      ]
     },
     "execution_count": 5,
     "metadata": {},
     "output_type": "execute_result"
    }
   ],
   "source": [
    "# Splitting data\n",
    "X = raw_data.drop(['Class'], axis=1)\n",
    "X.describe()"
   ]
  },
  {
   "cell_type": "code",
   "execution_count": 6,
   "metadata": {},
   "outputs": [],
   "source": [
    "# Standardization\n",
    "sc = StandardScaler()\n",
    "X = sc.fit_transform(X)"
   ]
  },
  {
   "cell_type": "code",
   "execution_count": 7,
   "metadata": {
    "scrolled": true
   },
   "outputs": [],
   "source": [
    "# Output\n",
    "Y = raw_data['Class']"
   ]
  },
  {
   "cell_type": "code",
   "execution_count": 8,
   "metadata": {},
   "outputs": [
    {
     "name": "stdout",
     "output_type": "stream",
     "text": [
      "0.1727485630620034\n"
     ]
    }
   ],
   "source": [
    "#Percentage of fraud\n",
    "fraud_percentage = Y[Y == 1].count() / Y.count() * 100\n",
    "print(fraud_percentage)"
   ]
  },
  {
   "cell_type": "code",
   "execution_count": 9,
   "metadata": {},
   "outputs": [],
   "source": [
    "normal_transaction = X[raw_data['Class'] == 0]\n",
    "abnormal_transaction = X[raw_data['Class'] == 1]"
   ]
  },
  {
   "cell_type": "code",
   "execution_count": 10,
   "metadata": {},
   "outputs": [
    {
     "name": "stdout",
     "output_type": "stream",
     "text": [
      "284315\n",
      "492\n"
     ]
    }
   ],
   "source": [
    "print(len(normal_transaction))\n",
    "print(len(abnormal_transaction))"
   ]
  },
  {
   "cell_type": "markdown",
   "metadata": {},
   "source": [
    "# First solution\n",
    "DNN"
   ]
  },
  {
   "cell_type": "code",
   "execution_count": 92,
   "metadata": {},
   "outputs": [],
   "source": [
    "# Train-Test split\n",
    "X_train, X_test, y_train, y_test = train_test_split(X, Y, test_size = 0.2)"
   ]
  },
  {
   "cell_type": "code",
   "execution_count": 93,
   "metadata": {},
   "outputs": [
    {
     "data": {
      "text/plain": [
       "(array([227452.,      0.,      0.,      0.,      0.,      0.,      0.,\n",
       "             0.,      0., 227452.]),\n",
       " array([0. , 0.1, 0.2, 0.3, 0.4, 0.5, 0.6, 0.7, 0.8, 0.9, 1. ]),\n",
       " <BarContainer object of 10 artists>)"
      ]
     },
     "execution_count": 93,
     "metadata": {},
     "output_type": "execute_result"
    },
    {
     "data": {
      "image/png": "[encoded data removed]",
      "text/plain": [
       "<Figure size 432x288 with 1 Axes>"
      ]
     },
     "metadata": {
      "needs_background": "light"
     },
     "output_type": "display_data"
    }
   ],
   "source": [
    "# Oversampling the dataset\n",
    "overSampling = SMOTE()\n",
    "x_train_over_samp, y_train_over_samp = overSampling.fit_sample(X_train, y_train)\n",
    "\n",
    "plt.figure()\n",
    "plt.hist(y_train_over_samp)"
   ]
  },
  {
   "cell_type": "code",
   "execution_count": 46,
   "metadata": {},
   "outputs": [],
   "source": [
    "# Metrics\n",
    "metrics = [\n",
    "    tf.keras.metrics.Accuracy(name=\"Accuracy\"),\n",
    "    tf.keras.metrics.Precision(name=\"Precision\"),\n",
    "    tf.keras.metrics.Recall(name=\"Recall\")]"
   ]
  },
  {
   "cell_type": "code",
   "execution_count": 95,
   "metadata": {},
   "outputs": [],
   "source": [
    "# Build model\n",
    "model = tf.keras.models.Sequential([\n",
    "        tf.keras.layers.Dense(units=128, activation='relu', input_shape=[30]),\n",
    "        tf.keras.layers.Dropout(0.2),\n",
    "        tf.keras.layers.Dense(units=64, activation='relu'),\n",
    "        tf.keras.layers.Dropout(0.2),\n",
    "        tf.keras.layers.Dense(units=32, activation='relu'),\n",
    "        tf.keras.layers.Dropout(0.2),\n",
    "        tf.keras.layers.Dense(units=16, activation='relu'),\n",
    "        tf.keras.layers.Dropout(0.2),\n",
    "        tf.keras.layers.Dense(units=1, activation='sigmoid')  \n",
    "])\n",
    "model.compile(optimizer='adam', loss='binary_crossentropy', metrics=metrics)"
   ]
  },
  {
   "cell_type": "code",
   "execution_count": 96,
   "metadata": {},
   "outputs": [
    {
     "name": "stdout",
     "output_type": "stream",
     "text": [
      "Train on 454904 samples, validate on 56962 samples\n",
      "Epoch 1/20\n",
      "454904/454904 [==============================] - 10s 21us/sample - loss: 0.0315 - Accuracy: 0.2019 - Precision: 0.9887 - Recall: 0.9910 - val_loss: 0.0136 - val_Accuracy: 0.0299 - val_Precision: 0.4320 - val_Recall: 0.8990\n",
      "Epoch 2/20\n",
      "454904/454904 [==============================] - 8s 17us/sample - loss: 0.0074 - Accuracy: 0.1987 - Precision: 0.9976 - Recall: 0.9989 - val_loss: 0.0137 - val_Accuracy: 0.1435 - val_Precision: 0.5822 - val_Recall: 0.8586\n",
      "Epoch 3/20\n",
      "454904/454904 [==============================] - 10s 22us/sample - loss: 0.0056 - Accuracy: 0.2409 - Precision: 0.9982 - Recall: 0.9992 - val_loss: 0.0138 - val_Accuracy: 0.2178 - val_Precision: 0.6043 - val_Recall: 0.8485\n",
      "Epoch 4/20\n",
      "454904/454904 [==============================] - 8s 17us/sample - loss: 0.0046 - Accuracy: 0.2706 - Precision: 0.9986 - Recall: 0.9994 - val_loss: 0.0132 - val_Accuracy: 0.2657 - val_Precision: 0.6565 - val_Recall: 0.8687\n",
      "Epoch 5/20\n",
      "454904/454904 [==============================] - 10s 23us/sample - loss: 0.0041 - Accuracy: 0.3122 - Precision: 0.9987 - Recall: 0.9996 - val_loss: 0.0180 - val_Accuracy: 0.4023 - val_Precision: 0.6418 - val_Recall: 0.8687\n",
      "Epoch 6/20\n",
      "454904/454904 [==============================] - 8s 18us/sample - loss: 0.0039 - Accuracy: 0.3199 - Precision: 0.9989 - Recall: 0.9996 - val_loss: 0.0127 - val_Accuracy: 0.3382 - val_Precision: 0.7083 - val_Recall: 0.8586\n",
      "Epoch 7/20\n",
      "454904/454904 [==============================] - 7s 16us/sample - loss: 0.0032 - Accuracy: 0.3558 - Precision: 0.9990 - Recall: 0.9997 - val_loss: 0.0152 - val_Accuracy: 0.5486 - val_Precision: 0.7179 - val_Recall: 0.8485\n",
      "Epoch 8/20\n",
      "454904/454904 [==============================] - 7s 16us/sample - loss: 0.0032 - Accuracy: 0.3818 - Precision: 0.9991 - Recall: 0.9997 - val_loss: 0.0181 - val_Accuracy: 0.5932 - val_Precision: 0.5629 - val_Recall: 0.8586\n",
      "Epoch 9/20\n",
      "454904/454904 [==============================] - 8s 17us/sample - loss: 0.0031 - Accuracy: 0.4221 - Precision: 0.9992 - Recall: 0.9997 - val_loss: 0.0177 - val_Accuracy: 0.6367 - val_Precision: 0.7143 - val_Recall: 0.8586\n",
      "Epoch 10/20\n",
      "454904/454904 [==============================] - 8s 18us/sample - loss: 0.0028 - Accuracy: 0.4521 - Precision: 0.9991 - Recall: 0.9998 - val_loss: 0.0169 - val_Accuracy: 0.6649 - val_Precision: 0.7083 - val_Recall: 0.8586\n",
      "Epoch 11/20\n",
      "454904/454904 [==============================] - 8s 18us/sample - loss: 0.0025 - Accuracy: 0.4606 - Precision: 0.9992 - Recall: 0.9998 - val_loss: 0.0178 - val_Accuracy: 0.6956 - val_Precision: 0.7241 - val_Recall: 0.8485\n",
      "Epoch 12/20\n",
      "454904/454904 [==============================] - 7s 16us/sample - loss: 0.0026 - Accuracy: 0.4554 - Precision: 0.9992 - Recall: 0.9997 - val_loss: 0.0156 - val_Accuracy: 0.5606 - val_Precision: 0.6562 - val_Recall: 0.8485\n",
      "Epoch 13/20\n",
      "454904/454904 [==============================] - 8s 18us/sample - loss: 0.0024 - Accuracy: 0.4710 - Precision: 0.9992 - Recall: 0.9998 - val_loss: 0.0169 - val_Accuracy: 0.6309 - val_Precision: 0.7179 - val_Recall: 0.8485\n",
      "Epoch 14/20\n",
      "454904/454904 [==============================] - 8s 17us/sample - loss: 0.0024 - Accuracy: 0.4728 - Precision: 0.9993 - Recall: 0.9998 - val_loss: 0.0161 - val_Accuracy: 0.6319 - val_Precision: 0.6885 - val_Recall: 0.8485\n",
      "Epoch 15/20\n",
      "454904/454904 [==============================] - 7s 16us/sample - loss: 0.0022 - Accuracy: 0.5002 - Precision: 0.9994 - Recall: 0.9998 - val_loss: 0.0156 - val_Accuracy: 0.5586 - val_Precision: 0.6942 - val_Recall: 0.8485\n",
      "Epoch 16/20\n",
      "454904/454904 [==============================] - 8s 18us/sample - loss: 0.0022 - Accuracy: 0.4988 - Precision: 0.9993 - Recall: 0.9998 - val_loss: 0.0169 - val_Accuracy: 0.6292 - val_Precision: 0.6885 - val_Recall: 0.8485\n",
      "Epoch 17/20\n",
      "454904/454904 [==============================] - 8s 19us/sample - loss: 0.0021 - Accuracy: 0.5325 - Precision: 0.9993 - Recall: 0.9998 - val_loss: 0.0184 - val_Accuracy: 0.7228 - val_Precision: 0.7368 - val_Recall: 0.8485\n",
      "Epoch 18/20\n",
      "454904/454904 [==============================] - 8s 18us/sample - loss: 0.0022 - Accuracy: 0.4961 - Precision: 0.9994 - Recall: 0.9998 - val_loss: 0.0156 - val_Accuracy: 0.6204 - val_Precision: 0.7328 - val_Recall: 0.8586\n",
      "Epoch 19/20\n",
      "454904/454904 [==============================] - 8s 18us/sample - loss: 0.0021 - Accuracy: 0.5028 - Precision: 0.9993 - Recall: 0.9998 - val_loss: 0.0168 - val_Accuracy: 0.6519 - val_Precision: 0.7328 - val_Recall: 0.8586\n",
      "Epoch 20/20\n",
      "454904/454904 [==============================] - 9s 20us/sample - loss: 0.0020 - Accuracy: 0.5199 - Precision: 0.9994 - Recall: 0.9998 - val_loss: 0.0150 - val_Accuracy: 0.5972 - val_Precision: 0.7203 - val_Recall: 0.8586\n"
     ]
    }
   ],
   "source": [
    "# model fitting\n",
    "history = model.fit(x_train_over_samp, y_train_over_samp,\n",
    "                    epochs=20, batch_size=128,\n",
    "                    validation_data=(X_test, y_test))"
   ]
  },
  {
   "cell_type": "code",
   "execution_count": 97,
   "metadata": {},
   "outputs": [],
   "source": [
    "# Prediction\n",
    "y_pred = model.predict(X_test)\n",
    "y_pred_class = y_pred > 0.5"
   ]
  },
  {
   "cell_type": "code",
   "execution_count": 98,
   "metadata": {},
   "outputs": [
    {
     "data": {
      "text/plain": [
       "array([[99.94,  0.06],\n",
       "       [14.14, 85.86]])"
      ]
     },
     "execution_count": 98,
     "metadata": {},
     "output_type": "execute_result"
    }
   ],
   "source": [
    "# Confusion Matrix\n",
    "%precision 2\n",
    "np.set_printoptions(suppress=True)\n",
    "confusion_matrix(y_test, y_pred_class, normalize='true')*100"
   ]
  },
  {
   "cell_type": "code",
   "execution_count": 53,
   "metadata": {},
   "outputs": [
    {
     "ename": "NameError",
     "evalue": "name 'y_pred_class' is not defined",
     "output_type": "error",
     "traceback": [
      "\u001b[1;31m---------------------------------------------------------------------------\u001b[0m",
      "\u001b[1;31mNameError\u001b[0m                                 Traceback (most recent call last)",
      "\u001b[1;32m<ipython-input-53-617e8dd6fadc>\u001b[0m in \u001b[0;36m<module>\u001b[1;34m\u001b[0m\n\u001b[1;32m----> 1\u001b[1;33m \u001b[0mconfusion_matrix\u001b[0m\u001b[1;33m(\u001b[0m\u001b[0my_test\u001b[0m\u001b[1;33m,\u001b[0m \u001b[0my_pred_class\u001b[0m\u001b[1;33m)\u001b[0m\u001b[1;33m\u001b[0m\u001b[1;33m\u001b[0m\u001b[0m\n\u001b[0m",
      "\u001b[1;31mNameError\u001b[0m: name 'y_pred_class' is not defined"
     ]
    }
   ],
   "source": [
    "confusion_matrix(y_test, y_pred_class)"
   ]
  },
  {
   "cell_type": "code",
   "execution_count": 99,
   "metadata": {},
   "outputs": [
    {
     "name": "stdout",
     "output_type": "stream",
     "text": [
      "Precision: 0.720\n",
      "Recall: 0.859\n",
      "F1: 0.783\n"
     ]
    }
   ],
   "source": [
    "# Metrics\n",
    "score = precision_recall_fscore_support(y_test, y_pred_class)\n",
    "print('Precision:', format(score[0][1], '.3f'))\n",
    "print('Recall:', format(score[1][1], '.3f'))\n",
    "print('F1:', format(score[2][1], '.3f'))"
   ]
  },
  {
   "cell_type": "code",
   "execution_count": 100,
   "metadata": {},
   "outputs": [
    {
     "data": {
      "text/plain": [
       "Text(0.5, 1.0, 'Training and validation Precision')"
      ]
     },
     "execution_count": 100,
     "metadata": {},
     "output_type": "execute_result"
    },
    {
     "data": {
      "image/png": "[encoded data removed]",
      "text/plain": [
       "<Figure size 432x288 with 1 Axes>"
      ]
     },
     "metadata": {
      "needs_background": "light"
     },
     "output_type": "display_data"
    },
    {
     "data": {
      "image/png": "[encoded data removed]",
      "text/plain": [
       "<Figure size 432x288 with 1 Axes>"
      ]
     },
     "metadata": {
      "needs_background": "light"
     },
     "output_type": "display_data"
    },
    {
     "data": {
      "image/png": "[encoded data removed]",
      "text/plain": [
       "<Figure size 432x288 with 1 Axes>"
      ]
     },
     "metadata": {
      "needs_background": "light"
     },
     "output_type": "display_data"
    },
    {
     "data": {
      "image/png": "[encoded data removed]",
      "text/plain": [
       "<Figure size 432x288 with 1 Axes>"
      ]
     },
     "metadata": {
      "needs_background": "light"
     },
     "output_type": "display_data"
    }
   ],
   "source": [
    "# PLOT LOSS AND ACCURACY\n",
    "%matplotlib inline\n",
    "\n",
    "import matplotlib.image  as mpimg\n",
    "import matplotlib.pyplot as plt\n",
    "\n",
    "#-----------------------------------------------------------\n",
    "# Retrieve a list of list results on training and test data\n",
    "# sets for each training epoch\n",
    "#-----------------------------------------------------------\n",
    "acc=history.history['Accuracy']\n",
    "val_acc=history.history['val_Accuracy']\n",
    "loss=history.history['loss']\n",
    "val_loss=history.history['val_loss']\n",
    "rec=history.history['Recall']\n",
    "val_rec=history.history['val_Recall']\n",
    "prec=history.history['Precision']\n",
    "val_prec=history.history['val_Precision']\n",
    "\n",
    "epochs=range(len(acc)) # Get number of epochs\n",
    "\n",
    "#------------------------------------------------\n",
    "# Plot training and validation accuracy per epoch\n",
    "#------------------------------------------------\n",
    "plt.figure()\n",
    "plt.plot(epochs, acc, 'r')\n",
    "plt.plot(epochs, val_acc, 'b')\n",
    "plt.legend([\"Training Accuracy\", \"Validation Accuracy\"])\n",
    "plt.title('Training and validation accuracy')\n",
    "\n",
    "#------------------------------------------------\n",
    "# Plot training and validation loss per epoch\n",
    "#------------------------------------------------\n",
    "plt.figure()\n",
    "plt.plot(epochs, loss, 'r')\n",
    "plt.plot(epochs, val_loss, 'b')\n",
    "plt.legend([\"Training Loss\", \"Validation Loss\"])\n",
    "plt.title('Training and validation Loss')\n",
    "\n",
    "#------------------------------------------------\n",
    "# Plot training and validation Recall per epoch\n",
    "#------------------------------------------------\n",
    "plt.figure()\n",
    "plt.plot(epochs, rec, 'r')\n",
    "plt.plot(epochs, val_rec, 'b')\n",
    "plt.title('Training and validation recall')\n",
    "plt.legend([\"Training Recall\", \"Validation Recall\"])\n",
    "plt.title('Training and validation Recall')\n",
    "\n",
    "#------------------------------------------------\n",
    "# Plot training and validation Precision per epoch\n",
    "#------------------------------------------------\n",
    "plt.figure()\n",
    "plt.plot(epochs, prec, 'r')\n",
    "plt.plot(epochs, val_prec, 'b')\n",
    "plt.title('Training and validation Precision')\n",
    "plt.legend([\"Training Precision\", \"Validation Precision\"])\n",
    "plt.title('Training and validation Precision')"
   ]
  },
  {
   "cell_type": "markdown",
   "metadata": {},
   "source": [
    "# Second solution\n",
    "Auto-encoder"
   ]
  },
  {
   "cell_type": "code",
   "execution_count": 11,
   "metadata": {},
   "outputs": [],
   "source": [
    "# Train-Test split\n",
    "train_normal_transa, test_normal_transa, _, _ = train_test_split(normal_transaction, normal_transaction, test_size = 0.2)"
   ]
  },
  {
   "cell_type": "code",
   "execution_count": 12,
   "metadata": {},
   "outputs": [],
   "source": [
    "# Build model\n",
    "encoder = tf.keras.models.Sequential([\n",
    "          tf.keras.layers.Dense(units=20, activation='relu', input_shape=[30]),\n",
    "          tf.keras.layers.Dense(units=10, activation='relu'),\n",
    "])\n",
    "decoder = tf.keras.models.Sequential([\n",
    "          tf.keras.layers.Dense(units=20, activation='relu', input_shape=[10]),\n",
    "          tf.keras.layers.Dense(units=30, activation='relu'),\n",
    "])\n",
    "\n",
    "autoencoder = tf.keras.models.Sequential([encoder, decoder])\n",
    "\n",
    "autoencoder.compile(optimizer='adam', loss='mean_squared_error', metrics=['accuracy'])"
   ]
  },
  {
   "cell_type": "code",
   "execution_count": 13,
   "metadata": {},
   "outputs": [
    {
     "name": "stdout",
     "output_type": "stream",
     "text": [
      "Train on 227452 samples, validate on 56863 samples\n",
      "Epoch 1/20\n",
      "227452/227452 [==============================] - 11s 50us/sample - loss: 0.7100 - accuracy: 0.4729 - val_loss: 0.6585 - val_accuracy: 0.5750\n",
      "Epoch 2/20\n",
      "227452/227452 [==============================] - 10s 42us/sample - loss: 0.6449 - accuracy: 0.6026 - val_loss: 0.6400 - val_accuracy: 0.6289\n",
      "Epoch 3/20\n",
      "227452/227452 [==============================] - 7s 33us/sample - loss: 0.6340 - accuracy: 0.6349 - val_loss: 0.6329 - val_accuracy: 0.6451\n",
      "Epoch 4/20\n",
      "227452/227452 [==============================] - 7s 31us/sample - loss: 0.6300 - accuracy: 0.6477 - val_loss: 0.6302 - val_accuracy: 0.6553\n",
      "Epoch 5/20\n",
      "227452/227452 [==============================] - 8s 33us/sample - loss: 0.6265 - accuracy: 0.6539 - val_loss: 0.6271 - val_accuracy: 0.6670\n",
      "Epoch 6/20\n",
      "227452/227452 [==============================] - 8s 34us/sample - loss: 0.6230 - accuracy: 0.6604 - val_loss: 0.6262 - val_accuracy: 0.6614\n",
      "Epoch 7/20\n",
      "227452/227452 [==============================] - 8s 33us/sample - loss: 0.6124 - accuracy: 0.6669 - val_loss: 0.6178 - val_accuracy: 0.6702\n",
      "Epoch 8/20\n",
      "227452/227452 [==============================] - 8s 33us/sample - loss: 0.6092 - accuracy: 0.6689 - val_loss: 0.6099 - val_accuracy: 0.6729\n",
      "Epoch 9/20\n",
      "227452/227452 [==============================] - 7s 32us/sample - loss: 0.6079 - accuracy: 0.6711 - val_loss: 0.6110 - val_accuracy: 0.6765\n",
      "Epoch 10/20\n",
      "227452/227452 [==============================] - 8s 35us/sample - loss: 0.6079 - accuracy: 0.6711 - val_loss: 0.6081 - val_accuracy: 0.6736\n",
      "Epoch 11/20\n",
      "227452/227452 [==============================] - 10s 43us/sample - loss: 0.6062 - accuracy: 0.6717 - val_loss: 0.6071 - val_accuracy: 0.6777\n",
      "Epoch 12/20\n",
      "227452/227452 [==============================] - 11s 49us/sample - loss: 0.6059 - accuracy: 0.6729 - val_loss: 0.6062 - val_accuracy: 0.6799\n",
      "Epoch 13/20\n",
      "227452/227452 [==============================] - 11s 50us/sample - loss: 0.6048 - accuracy: 0.6749 - val_loss: 0.6085 - val_accuracy: 0.6660\n",
      "Epoch 14/20\n",
      "227452/227452 [==============================] - 8s 36us/sample - loss: 0.6052 - accuracy: 0.6752 - val_loss: 0.6067 - val_accuracy: 0.6768\n",
      "Epoch 15/20\n",
      "227452/227452 [==============================] - 8s 36us/sample - loss: 0.6042 - accuracy: 0.6741 - val_loss: 0.6100 - val_accuracy: 0.6663\n",
      "Epoch 16/20\n",
      "227452/227452 [==============================] - 8s 35us/sample - loss: 0.6035 - accuracy: 0.6754 - val_loss: 0.6066 - val_accuracy: 0.6686\n",
      "Epoch 17/20\n",
      "227452/227452 [==============================] - 9s 39us/sample - loss: 0.6038 - accuracy: 0.6749 - val_loss: 0.6067 - val_accuracy: 0.6714\n",
      "Epoch 18/20\n",
      "227452/227452 [==============================] - 8s 34us/sample - loss: 0.6026 - accuracy: 0.6775 - val_loss: 0.6059 - val_accuracy: 0.6725\n",
      "Epoch 19/20\n",
      "227452/227452 [==============================] - 7s 33us/sample - loss: 0.6028 - accuracy: 0.6782 - val_loss: 0.6041 - val_accuracy: 0.6713\n",
      "Epoch 20/20\n",
      "227452/227452 [==============================] - 7s 33us/sample - loss: 0.6018 - accuracy: 0.6801 - val_loss: 0.6047 - val_accuracy: 0.6800\n"
     ]
    }
   ],
   "source": [
    "# model fitting\n",
    "history_ae = autoencoder.fit(train_normal_transa, train_normal_transa,\n",
    "                          epochs=20,\n",
    "                          validation_data=(test_normal_transa, test_normal_transa))"
   ]
  },
  {
   "cell_type": "code",
   "execution_count": 14,
   "metadata": {},
   "outputs": [
    {
     "data": {
      "text/plain": [
       "Text(0.5, 1.0, 'Training and validation Loss')"
      ]
     },
     "execution_count": 14,
     "metadata": {},
     "output_type": "execute_result"
    },
    {
     "data": {
      "image/png": "[encoded data removed]",
      "text/plain": [
       "<Figure size 432x288 with 1 Axes>"
      ]
     },
     "metadata": {
      "needs_background": "light"
     },
     "output_type": "display_data"
    },
    {
     "data": {
      "image/png": "[encoded data removed]",
      "text/plain": [
       "<Figure size 432x288 with 1 Axes>"
      ]
     },
     "metadata": {
      "needs_background": "light"
     },
     "output_type": "display_data"
    }
   ],
   "source": [
    "# PLOT LOSS AND ACCURACY\n",
    "%matplotlib inline\n",
    "\n",
    "import matplotlib.image  as mpimg\n",
    "import matplotlib.pyplot as plt\n",
    "\n",
    "#-----------------------------------------------------------\n",
    "# Retrieve a list of list results on training and test data\n",
    "# sets for each training epoch\n",
    "#-----------------------------------------------------------\n",
    "acc=history_ae.history['accuracy']\n",
    "val_acc=history_ae.history['val_accuracy']\n",
    "loss=history_ae.history['loss']\n",
    "val_loss=history_ae.history['val_loss']\n",
    "\n",
    "epochs=range(len(acc)) # Get number of epochs\n",
    "\n",
    "#------------------------------------------------\n",
    "# Plot training and validation accuracy per epoch\n",
    "#------------------------------------------------\n",
    "plt.figure()\n",
    "plt.plot(epochs, acc, 'r')\n",
    "plt.plot(epochs, val_acc, 'b')\n",
    "plt.legend([\"Training Accuracy\", \"Validation Accuracy\"])\n",
    "plt.title('Training and validation accuracy')\n",
    "\n",
    "#------------------------------------------------\n",
    "# Plot training and validation loss per epoch\n",
    "#------------------------------------------------\n",
    "plt.figure()\n",
    "plt.plot(epochs, loss, 'r')\n",
    "plt.plot(epochs, val_loss, 'b')\n",
    "plt.legend([\"Training Loss\", \"Validation Loss\"])\n",
    "plt.title('Training and validation Loss')"
   ]
  },
  {
   "cell_type": "code",
   "execution_count": 15,
   "metadata": {},
   "outputs": [],
   "source": [
    "# Prediction\n",
    "train_predict = autoencoder.predict(train_normal_transa)\n",
    "test_predict = autoencoder.predict(test_normal_transa)\n",
    "fraud_predict = autoencoder.predict(abnormal_transaction)"
   ]
  },
  {
   "cell_type": "code",
   "execution_count": 16,
   "metadata": {},
   "outputs": [],
   "source": [
    "mse_train = np.sum(np.power(train_normal_transa - train_predict, 2), axis=1)\n",
    "mse_test = np.sum(np.power(test_normal_transa - test_predict, 2), axis=1)\n",
    "mse_fraud = np.sum(np.power(abnormal_transaction - fraud_predict, 2), axis=1)"
   ]
  },
  {
   "cell_type": "code",
   "execution_count": 17,
   "metadata": {},
   "outputs": [
    {
     "name": "stderr",
     "output_type": "stream",
     "text": [
      "C:\\Users\\Tom\\anaconda3\\lib\\site-packages\\seaborn\\distributions.py:2551: FutureWarning: `distplot` is a deprecated function and will be removed in a future version. Please adapt your code to use either `displot` (a figure-level function with similar flexibility) or `histplot` (an axes-level function for histograms).\n",
      "  warnings.warn(msg, FutureWarning)\n",
      "C:\\Users\\Tom\\anaconda3\\lib\\site-packages\\seaborn\\distributions.py:2551: FutureWarning: `distplot` is a deprecated function and will be removed in a future version. Please adapt your code to use either `displot` (a figure-level function with similar flexibility) or `histplot` (an axes-level function for histograms).\n",
      "  warnings.warn(msg, FutureWarning)\n",
      "C:\\Users\\Tom\\anaconda3\\lib\\site-packages\\seaborn\\distributions.py:2551: FutureWarning: `distplot` is a deprecated function and will be removed in a future version. Please adapt your code to use either `displot` (a figure-level function with similar flexibility) or `histplot` (an axes-level function for histograms).\n",
      "  warnings.warn(msg, FutureWarning)\n"
     ]
    },
    {
     "data": {
      "text/plain": [
       "<AxesSubplot:ylabel='Density'>"
      ]
     },
     "execution_count": 17,
     "metadata": {},
     "output_type": "execute_result"
    },
    {
     "data": {
      "image/png": "[encoded data removed]",
      "text/plain": [
       "<Figure size 432x288 with 1 Axes>"
      ]
     },
     "metadata": {
      "needs_background": "light"
     },
     "output_type": "display_data"
    }
   ],
   "source": [
    "#plt.hist(np.log(mse_train), density=True)\n",
    "#plt.hist(np.log(mse_test), density=True)\n",
    "#plt.hist(np.log(mse_fraud), density=True)\n",
    "\n",
    "fig, ax = plt.subplots()\n",
    "sns.distplot(np.log(mse_train), norm_hist=True, ax=ax)\n",
    "sns.distplot(np.log(mse_test), norm_hist=True, ax=ax)\n",
    "sns.distplot(np.log(mse_fraud), norm_hist=True, ax=ax)\n"
   ]
  },
  {
   "cell_type": "code",
   "execution_count": 18,
   "metadata": {},
   "outputs": [
    {
     "name": "stdout",
     "output_type": "stream",
     "text": [
      "18.030136057147864\n",
      "18.142073901887887\n",
      "644.8261535674175\n"
     ]
    }
   ],
   "source": [
    "print(np.mean(mse_train))\n",
    "print(np.mean(mse_test))\n",
    "print(np.mean(mse_fraud))"
   ]
  },
  {
   "cell_type": "code",
   "execution_count": 19,
   "metadata": {},
   "outputs": [],
   "source": [
    "#prediction\n",
    "discriminative_threshold = 4.1\n",
    "error = np.sum(np.power(X - autoencoder.predict(X), 2), axis=1)\n",
    "detect_abnormal = np.log(error) > discriminative_threshold"
   ]
  },
  {
   "cell_type": "code",
   "execution_count": 20,
   "metadata": {},
   "outputs": [
    {
     "data": {
      "text/plain": [
       "array([[97.6 ,  2.4 ],\n",
       "       [16.46, 83.54]])"
      ]
     },
     "execution_count": 20,
     "metadata": {},
     "output_type": "execute_result"
    }
   ],
   "source": [
    "# Confusion Matrix\n",
    "%precision 2\n",
    "np.set_printoptions(suppress=True)\n",
    "confusion_matrix(Y, detect_abnormal, normalize='true')*100"
   ]
  },
  {
   "cell_type": "code",
   "execution_count": 21,
   "metadata": {},
   "outputs": [
    {
     "data": {
      "text/plain": [
       "array([[277498,   6817],\n",
       "       [    81,    411]], dtype=int64)"
      ]
     },
     "execution_count": 21,
     "metadata": {},
     "output_type": "execute_result"
    }
   ],
   "source": [
    "\n",
    "confusion_matrix(Y, detect_abnormal)"
   ]
  },
  {
   "cell_type": "code",
   "execution_count": 22,
   "metadata": {},
   "outputs": [
    {
     "name": "stdout",
     "output_type": "stream",
     "text": [
      "Precision: 0.057\n",
      "Recall: 0.835\n",
      "F1: 0.106\n"
     ]
    }
   ],
   "source": [
    "# Metrics\n",
    "score = precision_recall_fscore_support(Y, detect_abnormal)\n",
    "print('Precision:', format(score[0][1], '.3f'))\n",
    "print('Recall:', format(score[1][1], '.3f'))\n",
    "print('F1:', format(score[2][1], '.3f'))"
   ]
  },
  {
   "cell_type": "markdown",
   "metadata": {},
   "source": [
    "# % Extraction of FP and actual fraud data"
   ]
  },
  {
   "cell_type": "code",
   "execution_count": 28,
   "metadata": {},
   "outputs": [],
   "source": [
    "data_FP = X[np.logical_and(detect_abnormal==True, raw_data['Class'] == 0)]"
   ]
  },
  {
   "cell_type": "code",
   "execution_count": 35,
   "metadata": {},
   "outputs": [
    {
     "data": {
      "text/plain": [
       "7309"
      ]
     },
     "execution_count": 35,
     "metadata": {},
     "output_type": "execute_result"
    }
   ],
   "source": [
    "new_data = np.concatenate((data_FP, abnormal_transaction))\n",
    "len(new_data)"
   ]
  },
  {
   "cell_type": "code",
   "execution_count": 39,
   "metadata": {},
   "outputs": [],
   "source": [
    "X_new = new_data\n",
    "Y_new = np.concatenate((np.zeros(len(data_FP)), np.ones(len(abnormal_transaction))))"
   ]
  },
  {
   "cell_type": "code",
   "execution_count": 42,
   "metadata": {},
   "outputs": [],
   "source": [
    "# Train-Test split\n",
    "Xn_train, Xn_test, Yn_train, Yn_test = train_test_split(X_new, Y_new, test_size = 0.2, shuffle=True)"
   ]
  },
  {
   "cell_type": "code",
   "execution_count": 44,
   "metadata": {},
   "outputs": [
    {
     "data": {
      "text/plain": [
       "(array([5458.,    0.,    0.,    0.,    0.,    0.,    0.,    0.,    0.,\n",
       "        5458.]),\n",
       " array([0. , 0.1, 0.2, 0.3, 0.4, 0.5, 0.6, 0.7, 0.8, 0.9, 1. ]),\n",
       " <BarContainer object of 10 artists>)"
      ]
     },
     "execution_count": 44,
     "metadata": {},
     "output_type": "execute_result"
    },
    {
     "data": {
      "image/png": "[encoded data removed]",
      "text/plain": [
       "<Figure size 432x288 with 1 Axes>"
      ]
     },
     "metadata": {
      "needs_background": "light"
     },
     "output_type": "display_data"
    }
   ],
   "source": [
    "# Oversampling the dataset\n",
    "overSampling = SMOTE()\n",
    "Xn_train_over_samp, Yn_train_over_samp = overSampling.fit_sample(Xn_train, Yn_train)\n",
    "\n",
    "plt.figure()\n",
    "plt.hist(Yn_train_over_samp)"
   ]
  },
  {
   "cell_type": "code",
   "execution_count": 49,
   "metadata": {},
   "outputs": [],
   "source": [
    "# Build model\n",
    "model2 = tf.keras.models.Sequential([\n",
    "        tf.keras.layers.Dense(units=128, activation='relu', input_shape=[30]),\n",
    "        tf.keras.layers.Dropout(0.2),\n",
    "        tf.keras.layers.Dense(units=64, activation='relu'),\n",
    "        tf.keras.layers.Dropout(0.2),\n",
    "        tf.keras.layers.Dense(units=32, activation='relu'),\n",
    "        tf.keras.layers.Dropout(0.2),\n",
    "        tf.keras.layers.Dense(units=16, activation='relu'),\n",
    "        tf.keras.layers.Dropout(0.2),\n",
    "        tf.keras.layers.Dense(units=1, activation='sigmoid')  \n",
    "])\n",
    "model2.compile(optimizer='adam', loss='binary_crossentropy', metrics=metrics)"
   ]
  },
  {
   "cell_type": "code",
   "execution_count": 50,
   "metadata": {},
   "outputs": [
    {
     "name": "stdout",
     "output_type": "stream",
     "text": [
      "Train on 10916 samples, validate on 1462 samples\n",
      "Epoch 1/20\n",
      "10916/10916 [==============================] - 1s 118us/sample - loss: 0.2818 - Accuracy: 0.0126 - Precision: 0.9324 - Recall: 0.8439 - val_loss: 0.1407 - val_Accuracy: 0.0000e+00 - val_Precision: 0.7015 - val_Recall: 0.9126\n",
      "Epoch 2/20\n",
      "10916/10916 [==============================] - 0s 20us/sample - loss: 0.1267 - Accuracy: 0.0167 - Precision: 0.9724 - Recall: 0.9698 - val_loss: 0.1173 - val_Accuracy: 0.0000e+00 - val_Precision: 0.6875 - val_Recall: 0.9612\n",
      "Epoch 3/20\n",
      "10916/10916 [==============================] - 0s 20us/sample - loss: 0.0989 - Accuracy: 0.0133 - Precision: 0.9725 - Recall: 0.9861 - val_loss: 0.1043 - val_Accuracy: 0.0000e+00 - val_Precision: 0.7388 - val_Recall: 0.9612\n",
      "Epoch 4/20\n",
      "10916/10916 [==============================] - 0s 18us/sample - loss: 0.0817 - Accuracy: 0.0069 - Precision: 0.9768 - Recall: 0.9886 - val_loss: 0.0928 - val_Accuracy: 0.0000e+00 - val_Precision: 0.6993 - val_Recall: 0.9709\n",
      "Epoch 5/20\n",
      "10916/10916 [==============================] - 0s 19us/sample - loss: 0.0652 - Accuracy: 0.0064 - Precision: 0.9790 - Recall: 0.9921 - val_loss: 0.0922 - val_Accuracy: 6.8399e-04 - val_Precision: 0.7092 - val_Recall: 0.9709\n",
      "Epoch 6/20\n",
      "10916/10916 [==============================] - 0s 19us/sample - loss: 0.0545 - Accuracy: 0.0073 - Precision: 0.9800 - Recall: 0.9956 - val_loss: 0.0706 - val_Accuracy: 0.0014 - val_Precision: 0.7937 - val_Recall: 0.9709\n",
      "Epoch 7/20\n",
      "10916/10916 [==============================] - 0s 18us/sample - loss: 0.0518 - Accuracy: 0.0081 - Precision: 0.9824 - Recall: 0.9941 - val_loss: 0.0734 - val_Accuracy: 0.0027 - val_Precision: 0.7953 - val_Recall: 0.9806\n",
      "Epoch 8/20\n",
      "10916/10916 [==============================] - 0s 19us/sample - loss: 0.0465 - Accuracy: 0.0129 - Precision: 0.9821 - Recall: 0.9951 - val_loss: 0.0678 - val_Accuracy: 0.0075 - val_Precision: 0.7984 - val_Recall: 0.9612\n",
      "Epoch 9/20\n",
      "10916/10916 [==============================] - 0s 23us/sample - loss: 0.0451 - Accuracy: 0.0137 - Precision: 0.9826 - Recall: 0.9954 - val_loss: 0.0718 - val_Accuracy: 0.0062 - val_Precision: 0.7891 - val_Recall: 0.9806\n",
      "Epoch 10/20\n",
      "10916/10916 [==============================] - 0s 18us/sample - loss: 0.0388 - Accuracy: 0.0157 - Precision: 0.9849 - Recall: 0.9951 - val_loss: 0.0850 - val_Accuracy: 0.0096 - val_Precision: 0.7519 - val_Recall: 0.9709\n",
      "Epoch 11/20\n",
      "10916/10916 [==============================] - 0s 18us/sample - loss: 0.0343 - Accuracy: 0.0224 - Precision: 0.9857 - Recall: 0.9982 - val_loss: 0.0697 - val_Accuracy: 0.0157 - val_Precision: 0.8049 - val_Recall: 0.9612\n",
      "Epoch 12/20\n",
      "10916/10916 [==============================] - 0s 17us/sample - loss: 0.0351 - Accuracy: 0.0248 - Precision: 0.9844 - Recall: 0.9962 - val_loss: 0.0868 - val_Accuracy: 0.0157 - val_Precision: 0.7874 - val_Recall: 0.9709\n",
      "Epoch 13/20\n",
      "10916/10916 [==============================] - 0s 19us/sample - loss: 0.0326 - Accuracy: 0.0287 - Precision: 0.9864 - Recall: 0.9985 - val_loss: 0.0716 - val_Accuracy: 0.0178 - val_Precision: 0.7984 - val_Recall: 0.9612\n",
      "Epoch 14/20\n",
      "10916/10916 [==============================] - 0s 23us/sample - loss: 0.0294 - Accuracy: 0.0293 - Precision: 0.9870 - Recall: 0.9984 - val_loss: 0.0867 - val_Accuracy: 0.0239 - val_Precision: 0.7812 - val_Recall: 0.9709\n",
      "Epoch 15/20\n",
      "10916/10916 [==============================] - 0s 21us/sample - loss: 0.0298 - Accuracy: 0.0398 - Precision: 0.9873 - Recall: 0.9978 - val_loss: 0.0776 - val_Accuracy: 0.0246 - val_Precision: 0.7812 - val_Recall: 0.9709\n",
      "Epoch 16/20\n",
      "10916/10916 [==============================] - 0s 18us/sample - loss: 0.0329 - Accuracy: 0.0322 - Precision: 0.9860 - Recall: 0.9958 - val_loss: 0.0764 - val_Accuracy: 0.0137 - val_Precision: 0.7812 - val_Recall: 0.9709\n",
      "Epoch 17/20\n",
      "10916/10916 [==============================] - 0s 20us/sample - loss: 0.0274 - Accuracy: 0.0373 - Precision: 0.9873 - Recall: 0.9978 - val_loss: 0.0674 - val_Accuracy: 0.0246 - val_Precision: 0.8065 - val_Recall: 0.9709\n",
      "Epoch 18/20\n",
      "10916/10916 [==============================] - 0s 19us/sample - loss: 0.0261 - Accuracy: 0.0398 - Precision: 0.9875 - Recall: 0.9985 - val_loss: 0.0747 - val_Accuracy: 0.0294 - val_Precision: 0.8033 - val_Recall: 0.9515\n",
      "Epoch 19/20\n",
      "10916/10916 [==============================] - 0s 25us/sample - loss: 0.0234 - Accuracy: 0.0522 - Precision: 0.9886 - Recall: 0.9991 - val_loss: 0.0694 - val_Accuracy: 0.0315 - val_Precision: 0.8049 - val_Recall: 0.9612\n",
      "Epoch 20/20\n",
      "10916/10916 [==============================] - 0s 18us/sample - loss: 0.0237 - Accuracy: 0.0473 - Precision: 0.9882 - Recall: 0.9980 - val_loss: 0.0848 - val_Accuracy: 0.0335 - val_Precision: 0.7840 - val_Recall: 0.9515\n"
     ]
    }
   ],
   "source": [
    "# model fitting\n",
    "history2 = model2.fit(Xn_train_over_samp, Yn_train_over_samp,\n",
    "                    epochs=20, batch_size=128,\n",
    "                    validation_data=(Xn_test, Yn_test))"
   ]
  },
  {
   "cell_type": "code",
   "execution_count": 52,
   "metadata": {},
   "outputs": [
    {
     "data": {
      "text/plain": [
       "Text(0.5, 1.0, 'Training and validation Precision')"
      ]
     },
     "execution_count": 52,
     "metadata": {},
     "output_type": "execute_result"
    },
    {
     "data": {
      "image/png": "[encoded data removed]",
      "text/plain": [
       "<Figure size 432x288 with 1 Axes>"
      ]
     },
     "metadata": {
      "needs_background": "light"
     },
     "output_type": "display_data"
    },
    {
     "data": {
      "image/png": "[encoded data removed]",
      "text/plain": [
       "<Figure size 432x288 with 1 Axes>"
      ]
     },
     "metadata": {
      "needs_background": "light"
     },
     "output_type": "display_data"
    },
    {
     "data": {
      "image/png": "[encoded data removed]",
      "text/plain": [
       "<Figure size 432x288 with 1 Axes>"
      ]
     },
     "metadata": {
      "needs_background": "light"
     },
     "output_type": "display_data"
    },
    {
     "data": {
      "image/png": "[encoded data removed]",
      "text/plain": [
       "<Figure size 432x288 with 1 Axes>"
      ]
     },
     "metadata": {
      "needs_background": "light"
     },
     "output_type": "display_data"
    }
   ],
   "source": [
    "# PLOT LOSS AND ACCURACY\n",
    "%matplotlib inline\n",
    "\n",
    "import matplotlib.image  as mpimg\n",
    "import matplotlib.pyplot as plt\n",
    "\n",
    "#-----------------------------------------------------------\n",
    "# Retrieve a list of list results on training and test data\n",
    "# sets for each training epoch\n",
    "#-----------------------------------------------------------\n",
    "acc=history2.history['Accuracy']\n",
    "val_acc=history2.history['val_Accuracy']\n",
    "loss=history2.history['loss']\n",
    "val_loss=history2.history['val_loss']\n",
    "rec=history2.history['Recall']\n",
    "val_rec=history2.history['val_Recall']\n",
    "prec=history2.history['Precision']\n",
    "val_prec=history2.history['val_Precision']\n",
    "\n",
    "epochs=range(len(acc)) # Get number of epochs\n",
    "\n",
    "#------------------------------------------------\n",
    "# Plot training and validation accuracy per epoch\n",
    "#------------------------------------------------\n",
    "plt.figure()\n",
    "plt.plot(epochs, acc, 'r')\n",
    "plt.plot(epochs, val_acc, 'b')\n",
    "plt.legend([\"Training Accuracy\", \"Validation Accuracy\"])\n",
    "plt.title('Training and validation accuracy')\n",
    "\n",
    "#------------------------------------------------\n",
    "# Plot training and validation loss per epoch\n",
    "#------------------------------------------------\n",
    "plt.figure()\n",
    "plt.plot(epochs, loss, 'r')\n",
    "plt.plot(epochs, val_loss, 'b')\n",
    "plt.legend([\"Training Loss\", \"Validation Loss\"])\n",
    "plt.title('Training and validation Loss')\n",
    "\n",
    "#------------------------------------------------\n",
    "# Plot training and validation Recall per epoch\n",
    "#------------------------------------------------\n",
    "plt.figure()\n",
    "plt.plot(epochs, rec, 'r')\n",
    "plt.plot(epochs, val_rec, 'b')\n",
    "plt.title('Training and validation recall')\n",
    "plt.legend([\"Training Recall\", \"Validation Recall\"])\n",
    "plt.title('Training and validation Recall')\n",
    "\n",
    "#------------------------------------------------\n",
    "# Plot training and validation Precision per epoch\n",
    "#------------------------------------------------\n",
    "plt.figure()\n",
    "plt.plot(epochs, prec, 'r')\n",
    "plt.plot(epochs, val_prec, 'b')\n",
    "plt.title('Training and validation Precision')\n",
    "plt.legend([\"Training Precision\", \"Validation Precision\"])\n",
    "plt.title('Training and validation Precision')"
   ]
  },
  {
   "cell_type": "code",
   "execution_count": 54,
   "metadata": {},
   "outputs": [],
   "source": [
    "# Prediction\n",
    "y_pred = model.predict(Xn_test)\n",
    "y_pred_class = y_pred > 0.5"
   ]
  },
  {
   "cell_type": "code",
   "execution_count": 55,
   "metadata": {},
   "outputs": [
    {
     "data": {
      "text/plain": [
       "array([[98.16,  1.84],\n",
       "       [ 4.85, 95.15]])"
      ]
     },
     "execution_count": 55,
     "metadata": {},
     "output_type": "execute_result"
    }
   ],
   "source": [
    "# Confusion Matrix\n",
    "%precision 2\n",
    "np.set_printoptions(suppress=True)\n",
    "confusion_matrix(Yn_test, y_pred_class, normalize='true')*100"
   ]
  },
  {
   "cell_type": "code",
   "execution_count": 56,
   "metadata": {},
   "outputs": [
    {
     "data": {
      "text/plain": [
       "array([[1334,   25],\n",
       "       [   5,   98]], dtype=int64)"
      ]
     },
     "execution_count": 56,
     "metadata": {},
     "output_type": "execute_result"
    }
   ],
   "source": [
    "confusion_matrix(Yn_test, y_pred_class)"
   ]
  },
  {
   "cell_type": "code",
   "execution_count": null,
   "metadata": {},
   "outputs": [],
   "source": []
  }
 ],
 "metadata": {
  "kernelspec": {
   "display_name": "Python 3",
   "language": "python",
   "name": "python3"
  },
  "language_info": {
   "codemirror_mode": {
    "name": "ipython",
    "version": 3
   },
   "file_extension": ".py",
   "mimetype": "text/x-python",
   "name": "python",
   "nbconvert_exporter": "python",
   "pygments_lexer": "ipython3",
   "version": "3.7.6"
  }
 },
 "nbformat": 4,
 "nbformat_minor": 4
}
